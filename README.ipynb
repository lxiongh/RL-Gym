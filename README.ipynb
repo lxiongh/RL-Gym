{
 "cells": [
  {
   "cell_type": "markdown",
   "metadata": {},
   "source": [
    "\n",
    "----\n",
    "\n",
    "## FlappyBird\n",
    "\n",
    "\n",
    "\n",
    "输入为根据图像提取的关键点 (鸟,拐角) 的坐标, 采用经典的 DQN 算法, 经过 380 步就已经能够收敛到比较好的结果了. 下图示例中的就是 380 迭代后的结果 (只截取了前30秒的数据, 实际持续了 5 分钟).\n",
    "\n",
    "![](FlappyBird-v0/dqn_agent.gif)\n",
    "\n",
    "\n",
    "## CartPole-v0\n",
    "\n",
    "\n",
    "<video id=\"pelican-installation\" class=\"video-js vjs-default-skin\" controls\n",
    "preload=\"auto\" width=\"683\" height=\"384\" poster=\"FlappyBird-v0/training_rewards.png\"\n",
    "data-setup=\"{}\">\n",
    "<source src=\"CartPole-v1/carpole_training.mp4\" type='video/mp4'>\n",
    "</video>\n",
    "\n",
    "<script src=\"http://vjs.zencdn.net/4.0/video.js\"></script>\n"
   ]
  },
  {
   "cell_type": "markdown",
   "metadata": {},
   "source": [
    "<video id=\"video\" controls=\"\" preload=\"none\" poster=\"FlappyBird-v0/training_rewards.png\">\n",
    "      <source id=\"mp4\" src=\"CartPole-v1/carpole_training.mp4\" type=\"video/mp4\">\n",
    "</video>"
   ]
  },
  {
   "cell_type": "code",
   "execution_count": null,
   "metadata": {},
   "outputs": [],
   "source": []
  }
 ],
 "metadata": {
  "kernelspec": {
   "display_name": "Python 3",
   "language": "python",
   "name": "python3"
  },
  "language_info": {
   "codemirror_mode": {
    "name": "ipython",
    "version": 3
   },
   "file_extension": ".py",
   "mimetype": "text/x-python",
   "name": "python",
   "nbconvert_exporter": "python",
   "pygments_lexer": "ipython3",
   "version": "3.5.2"
  }
 },
 "nbformat": 4,
 "nbformat_minor": 2
}
