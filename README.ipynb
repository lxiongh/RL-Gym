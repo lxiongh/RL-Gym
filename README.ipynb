{
 "cells": [
  {
   "cell_type": "markdown",
   "metadata": {},
   "source": [
    "这个项目主要用于记录利用增强学习算法玩转 GYM 游戏的实现过程。\n",
    "\n",
    "## 环境准备\n",
    "\n",
    "利用 ALIYUN ECS 机器搭建了一个 Jupyter 平台，可以方便的在线编辑代码并进行训练，更重要的是价格还便宜。一个抢占式的实例每小时只需要0.37元。\n",
    "具体环境准备过程详见 [setting_env.md](setting_env.md)\n",
    "\n",
    "## Gym Games\n",
    "\n",
    "### FlappyBird-v0\n",
    "\n",
    "目前实现了 DQN 算法玩 FlappyBird-v0, 迭代了400+的模型能够完成 5 分钟的自主飞行。详情请见 [FlappyBird-v0](FlappyBird-v0/README.MD)\n",
    "\n",
    "![](./FlappyBird-v0/dqn_agent.gif)\n",
    "\n",
    "\n",
    "### CartPole-v1\n",
    "\n",
    "DQN 算法学习过程.\n",
    "\n",
    "![](./CartPole-v1/dqn_agent.gif)"
   ]
  },
  {
   "cell_type": "code",
   "execution_count": null,
   "metadata": {},
   "outputs": [],
   "source": []
  }
 ],
 "metadata": {
  "kernelspec": {
   "display_name": "Python 3",
   "language": "python",
   "name": "python3"
  },
  "language_info": {
   "codemirror_mode": {
    "name": "ipython",
    "version": 3
   },
   "file_extension": ".py",
   "mimetype": "text/x-python",
   "name": "python",
   "nbconvert_exporter": "python",
   "pygments_lexer": "ipython3",
   "version": "3.5.2"
  }
 },
 "nbformat": 4,
 "nbformat_minor": 2
}
