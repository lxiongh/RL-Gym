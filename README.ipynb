{
 "cells": [
  {
   "cell_type": "markdown",
   "metadata": {},
   "source": [
    "\n",
    "----\n",
    "\n",
    "## FlappyBird\n",
    "\n",
    "\n",
    "\n",
    "输入为根据图像提取的关键点 (鸟,拐角) 的坐标, 采用经典的 DQN 算法, 经过 380 步就已经能够收敛到比较好的结果了. 下图示例中的就是 380 迭代后的结果 (只截取了前30秒的数据, 实际持续了 5 分钟).\n",
    "\n",
    "![](FlappyBird-v0/dqn_agent.gif)\n",
    "\n",
    "\n",
    "![](FlappyBird-v0/training_rewards.png)\n",
    "\n",
    "\n",
    "### 如何训练\n",
    "\n",
    "`python3 training-lr_1_e-3.py`\n",
    "\n",
    "### 训练关键点\n",
    "\n",
    "1. 积累4帧的图像特征作为网络的输入, 网络可以推测速度\n",
    "2. 学习率的设置成关键, 此处设为 1e-3 (1e-2根本无法收敛)\n",
    "\n",
    "### 实现细节\n",
    "\n",
    "**特征工程**\n",
    "\n",
    "> FlappyBird-v0/feature_engineering/main.ipynb\n",
    "\n",
    "1. 环境状态为一个RGB图像, 截取 `[0:400,:,:]` 范围的内容, 将无效区域去除\n",
    "2. RGB 转为灰度图像 GRAY, 求得像素值的众数去除 (背景是一大块的同颜色区域), 得到图像 GRAY1\n",
    "3. GRAY1 作二值化处理得到 IMG_BIT\n",
    "4. 获取连通域, 计算鸟的坐标位置 (bx, by)\n",
    "5. 根据二值图像 IMG_BIT 计算小鸟前方障碍物的上下坐标 (ox1, oy1) (ox2, oy2), 其中 ox1=ox2=ox\n",
    "6. 计算坐标间的差值 `f(t) = (ox-bx, oy1-by, oy2-by)`\n",
    "7. 叠加4帧图像以该方式提取的特征拼接成网络的输入 `[f(t-2), f(t-1), f(t)]`\n",
    "\n",
    "![](FlappyBird-v0/flappybird_fe.png)\n"
   ]
  },
  {
   "cell_type": "code",
   "execution_count": null,
   "metadata": {},
   "outputs": [],
   "source": []
  }
 ],
 "metadata": {
  "kernelspec": {
   "display_name": "Python 3",
   "language": "python",
   "name": "python3"
  },
  "language_info": {
   "codemirror_mode": {
    "name": "ipython",
    "version": 3
   },
   "file_extension": ".py",
   "mimetype": "text/x-python",
   "name": "python",
   "nbconvert_exporter": "python",
   "pygments_lexer": "ipython3",
   "version": "3.5.2"
  }
 },
 "nbformat": 4,
 "nbformat_minor": 2
}
